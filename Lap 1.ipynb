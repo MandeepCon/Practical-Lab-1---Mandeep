{
 "cells": [
  {
   "cell_type": "markdown",
   "id": "52dd5132",
   "metadata": {},
   "source": [
    "## **Practical Lab 1 - Univariate Linear Regression on the California Housing Prices Dataset**\n",
    "\n",
    "### **Predicting Housing Pricing in California**"
   ]
  }
 ],
 "metadata": {
  "language_info": {
   "name": "python"
  }
 },
 "nbformat": 4,
 "nbformat_minor": 5
}
